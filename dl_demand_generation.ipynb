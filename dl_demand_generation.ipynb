{
 "cells": [
  {
   "metadata": {},
   "cell_type": "markdown",
   "source": "# Demand Generation",
   "id": "24bcf586a8356cf2"
  },
  {
   "metadata": {},
   "cell_type": "code",
   "source": [
    "# imports\n",
    "import pandas as pd\n",
    "import numpy as np"
   ],
   "id": "d08539f36ccd7c08",
   "outputs": [],
   "execution_count": null
  },
  {
   "metadata": {},
   "cell_type": "code",
   "source": [
    "# variables\n",
    "lstm_models_input_path = './pickles/results/lstm_results.pickle'\n",
    "lstm_weather_models_input_path = './pickles/results/lstm_weather_results.pickle'\n",
    "lstm_cc_models_input_path = './pickles/results/lstm_cc_results.pickle'\n",
    "lstm_cc_weather_models_input_path = './pickles/results/lstm_cc_weather_results.pickle'\n",
    "lstm_voronoi_cc_models_input_path = './pickles/results/lstm_voronoi_cc_results.pickle'\n",
    "lstm_voronoi_cc_weather_models_input_path = './pickles/results/lstm_voronoi_cc_weather_results.pickle'\n",
    "\n",
    "data_input_filepath = './pickles/reservations_evaluation.pickle'\n",
    "\n",
    "lstm_models_output_path = './pickles/results/demand/lstm_demand_prediction.pickle'\n",
    "lstm_weather_models_output_path = './pickles/results/demand/lstm_weather_demand_prediction.pickle'\n",
    "lstm_cc_models_output_path = './pickles/results/demand/lstm_cc_demand_prediction.pickle'\n",
    "lstm_cc_weather_models_output_path = './pickles/results/demand/lstm_cc_weather_demand_prediction.pickle'\n",
    "lstm_voronoi_cc_models_output_path = './pickles/results/demand/lstm_voronoi_cc_demand_prediction.pickle'\n",
    "lstm_voronoi_cc_weather_models_output_path = './pickles/results/demand/lstm_voronoi_cc_weather_demand_prediction.pickle'"
   ],
   "id": "aa93cf15d85fed1e",
   "outputs": [],
   "execution_count": null
  },
  {
   "metadata": {},
   "cell_type": "code",
   "source": [
    "# load data \n",
    "lstm_models = pd.read_pickle(lstm_models_input_path)\n",
    "lstm_weather_models = pd.read_pickle(lstm_weather_models_input_path)\n",
    "\n",
    "lstm_cc_models = pd.read_pickle(lstm_cc_models_input_path)\n",
    "lstm_cc_weather_models = pd.read_pickle(lstm_cc_weather_models_input_path)\n",
    "\n",
    "lstm_voronoi_cc_models = pd.read_pickle(lstm_voronoi_cc_models_input_path)\n",
    "lstm_voronoi_cc_weather_models = pd.read_pickle(lstm_voronoi_cc_weather_models_input_path)"
   ],
   "id": "7df1535d68b0e2a9",
   "outputs": [],
   "execution_count": null
  },
  {
   "metadata": {},
   "cell_type": "code",
   "source": [
    "# load reservation data\n",
    "input_data = pd.read_pickle(data_input_filepath)\n",
    "input_data.set_index('startTime', inplace=True)\n",
    "input_data.head()"
   ],
   "id": "20bd942b5113c3d7",
   "outputs": [],
   "execution_count": null
  },
  {
   "metadata": {},
   "cell_type": "code",
   "source": [
    "def predict_demand_lstm(timestamp):\n",
    "    grid_cells = []\n",
    "    prediction_values = []\n",
    "    \n",
    "    # Reshape the input to (1, 1, 3)\n",
    "    input_data = np.array([timestamp.month, timestamp.dayofweek, timestamp.hour]).reshape(1, 1, 3)\n",
    "    \n",
    "    for index, row in lstm_models.iterrows():\n",
    "        pred = row.model.predict(input_data, verbose=0)\n",
    "        grid_cells.append(row.grid_cell)\n",
    "        prediction_values.append(pred[0][0])\n",
    "        \n",
    "    transformed_prediction = pd.DataFrame({'grid_cell': grid_cells, 'prediction': prediction_values}).sort_values('grid_cell').set_index('grid_cell').transpose()\n",
    "    transformed_prediction.index = [timestamp]\n",
    "    transformed_prediction.rename_axis('timestamp', axis=1, inplace=True)\n",
    "    return transformed_prediction"
   ],
   "id": "84478bf1ba085bcf",
   "outputs": [],
   "execution_count": null
  },
  {
   "metadata": {},
   "cell_type": "code",
   "source": [
    "def predict_demand_lstm_weather(timestamp, temperature, precipitation):\n",
    "    grid_cells = []\n",
    "    prediction_values = []\n",
    "    \n",
    "    # Reshape the input to (1, 1, 3)\n",
    "    input_data = np.array([timestamp.month, timestamp.dayofweek, timestamp.hour, temperature, precipitation]).reshape(1, 1, 5)\n",
    "    \n",
    "    for index, row in lstm_weather_models.iterrows():\n",
    "        pred = row.model.predict(input_data, verbose=0)\n",
    "        grid_cells.append(row.grid_cell)\n",
    "        prediction_values.append(pred[0][0])\n",
    "        \n",
    "    transformed_prediction = pd.DataFrame({'grid_cell': grid_cells, 'prediction': prediction_values}).sort_values('grid_cell').set_index('grid_cell').transpose()\n",
    "    transformed_prediction.index = [timestamp]\n",
    "    transformed_prediction.rename_axis('timestamp', axis=1, inplace=True)\n",
    "    return transformed_prediction"
   ],
   "id": "d592780ef36515eb",
   "outputs": [],
   "execution_count": null
  },
  {
   "metadata": {},
   "cell_type": "code",
   "source": [
    "def predict_demand_lstm_cc(timestamp):\n",
    "    grid_cells = []\n",
    "    prediction_values = []\n",
    "    \n",
    "    # Reshape the input to (1, 1, 3)\n",
    "    input_data = np.array([timestamp.month, timestamp.week, timestamp.hour]).reshape(1, 1, 3)\n",
    "    \n",
    "    for index, row in lstm_cc_models.iterrows():\n",
    "        pred = row.model.predict(input_data, verbose=0)\n",
    "        for i in range(len(row.cluster_grid_cells)):\n",
    "            \n",
    "            grid_cells.append(row.cluster_grid_cells[i])\n",
    "            \n",
    "            prediction_values.append(pred[0][i])\n",
    "        \n",
    "    transformed_prediction = pd.DataFrame({'grid_cell': grid_cells, 'prediction': prediction_values}).sort_values('grid_cell').set_index('grid_cell').transpose()\n",
    "    transformed_prediction.index = [timestamp]\n",
    "    transformed_prediction.rename_axis('timestamp', axis=1, inplace=True)\n",
    "    return transformed_prediction"
   ],
   "id": "79c1c1d5897fb8c9",
   "outputs": [],
   "execution_count": null
  },
  {
   "metadata": {},
   "cell_type": "code",
   "source": [
    "def predict_demand_lstm_cc_weather(timestamp, temperature, precipitation):\n",
    "    grid_cells = []\n",
    "    prediction_values = []\n",
    "    \n",
    "    input_data = np.array([timestamp.month, timestamp.dayofweek, timestamp.hour, temperature, precipitation]).reshape(1, 1, 5)\n",
    "    \n",
    "    for index, row in lstm_cc_weather_models.iterrows():\n",
    "        pred = row.model.predict(input_data, verbose=0)\n",
    "        \n",
    "        for i in range(len(row.cluster_grid_cells)):\n",
    "            grid_cells.append(row.cluster_grid_cells[i])\n",
    "            prediction_values.append((pred[0][i]))\n",
    "        \n",
    "    transformed_prediction = pd.DataFrame({'grid_cell': grid_cells, 'prediction': prediction_values}).sort_values('grid_cell').set_index('grid_cell').transpose()\n",
    "    transformed_prediction.index = [timestamp]\n",
    "    transformed_prediction.rename_axis('timestamp', axis=1, inplace=True)\n",
    "    return transformed_prediction"
   ],
   "id": "9cf274601b461b93",
   "outputs": [],
   "execution_count": null
  },
  {
   "metadata": {},
   "cell_type": "code",
   "source": [
    "def predict_demand_lstm_voronoi_cc(timestamp):\n",
    "    grid_cells = []\n",
    "    prediction_values = []\n",
    "    \n",
    "    # Reshape the input to (1, 1, 3)\n",
    "    input_data = np.array([timestamp.month, timestamp.week, timestamp.hour]).reshape(1, 1, 3)\n",
    "    \n",
    "    for index, row in lstm_voronoi_cc_models.iterrows():\n",
    "        pred = row.model.predict(input_data, verbose=0)\n",
    "        for i in range(len(row.cluster_grid_cells)):\n",
    "            \n",
    "            grid_cells.append(row.cluster_grid_cells[i])\n",
    "            \n",
    "            prediction_values.append(pred[0][i])\n",
    "        \n",
    "    transformed_prediction = pd.DataFrame({'grid_cell': grid_cells, 'prediction': prediction_values}).sort_values('grid_cell').set_index('grid_cell').transpose()\n",
    "    transformed_prediction.index = [timestamp]\n",
    "    transformed_prediction.rename_axis('timestamp', axis=1, inplace=True)\n",
    "    return transformed_prediction"
   ],
   "id": "63336fb64f3c33dd",
   "outputs": [],
   "execution_count": null
  },
  {
   "metadata": {},
   "cell_type": "code",
   "source": [
    "def predict_demand_lstm_voronoi_cc_weather(timestamp, temperature, precipitation):\n",
    "    grid_cells = []\n",
    "    prediction_values = []\n",
    "    \n",
    "    input_data = np.array([timestamp.month, timestamp.dayofweek, timestamp.hour, temperature, precipitation]).reshape(1, 1, 5)\n",
    "    \n",
    "    for index, row in lstm_voronoi_cc_weather_models.iterrows():\n",
    "        pred = row.model.predict(input_data, verbose=0)\n",
    "        \n",
    "        for i in range(len(row.cluster_grid_cells)):\n",
    "            grid_cells.append(row.cluster_grid_cells[i])\n",
    "            prediction_values.append((pred[0][i]))\n",
    "        \n",
    "    transformed_prediction = pd.DataFrame({'grid_cell': grid_cells, 'prediction': prediction_values}).sort_values('grid_cell').set_index('grid_cell').transpose()\n",
    "    transformed_prediction.index = [timestamp]\n",
    "    transformed_prediction.rename_axis('timestamp', axis=1, inplace=True)\n",
    "    return transformed_prediction"
   ],
   "id": "ea7bd572d2c8ffd9",
   "outputs": [],
   "execution_count": null
  },
  {
   "metadata": {},
   "cell_type": "code",
   "source": [
    "# transform data\n",
    "voronoi_demand_data = input_data.resample('H').voronoi_grid_id.value_counts().unstack().fillna(0)\n",
    "weather_data = input_data.resample('H').mean().drop(columns=['small_grid_id', 'large_grid_id', 'startLat', 'startLon', 'endLat', 'endLon', 'endTime', 'voronoi_grid_id'])\n",
    "voronoi_data = pd.merge(weather_data, voronoi_demand_data, left_index=True, right_index=True, how='inner')\n",
    "voronoi_data.set_index(pd.to_datetime(voronoi_data.index), inplace=True)\n",
    "voronoi_data.sort_index(inplace=True)\n",
    "voronoi_data.head()"
   ],
   "id": "d0de0a824ca345b2",
   "outputs": [],
   "execution_count": null
  },
  {
   "metadata": {},
   "cell_type": "code",
   "source": [
    "# transform data\n",
    "small_grid_demand_data = input_data.resample('H').small_grid_id.value_counts().unstack().fillna(0)\n",
    "small_grid_data = pd.merge(weather_data, small_grid_demand_data, left_index=True, right_index=True, how='inner')\n",
    "small_grid_data.set_index(pd.to_datetime(small_grid_data.index), inplace=True)\n",
    "small_grid_data.sort_index(inplace=True)\n",
    "small_grid_data.head()"
   ],
   "id": "2b531c5b6faf4f5e",
   "outputs": [],
   "execution_count": null
  },
  {
   "metadata": {},
   "cell_type": "code",
   "source": [
    "# transform data\n",
    "large_grid_demand_data = input_data.resample('H').large_grid_id.value_counts().unstack().fillna(0)\n",
    "large_grid_data = pd.merge(weather_data, large_grid_demand_data, left_index=True, right_index=True, how='inner')\n",
    "large_grid_data.set_index(pd.to_datetime(large_grid_data.index), inplace=True)\n",
    "large_grid_data.sort_index(inplace=True)\n",
    "large_grid_data.head()"
   ],
   "id": "37f1caac7e6b0b0a",
   "outputs": [],
   "execution_count": null
  },
  {
   "metadata": {},
   "cell_type": "markdown",
   "source": "# LSTM",
   "id": "34947ce040643c52"
  },
  {
   "metadata": {},
   "cell_type": "code",
   "source": [
    "lstm_predicted_demand = pd.DataFrame() \n",
    "for i in range(len(large_grid_data.index)):\n",
    "    print('prediction progress: ', np.round(i * 100 / large_grid_data.index.size, decimals=2), '%')\n",
    "    \n",
    "    timestamp = large_grid_data.index[i]\n",
    "    \n",
    "    lstm_predicted_demand = pd.concat([lstm_predicted_demand, predict_demand_lstm(timestamp)]) \n",
    "    \n",
    "lstm_predicted_demand"
   ],
   "id": "745bc747134b9f26",
   "outputs": [],
   "execution_count": null
  },
  {
   "metadata": {},
   "cell_type": "code",
   "source": "lstm_predicted_demand.to_pickle(lstm_models_output_path)",
   "id": "1b4d75d0c2e4f1b5",
   "outputs": [],
   "execution_count": null
  },
  {
   "metadata": {},
   "cell_type": "markdown",
   "source": "# LSTM CC",
   "id": "8b63d797938f1dc0"
  },
  {
   "metadata": {},
   "cell_type": "code",
   "source": [
    "lstm_cc_predicted_demand = pd.DataFrame() \n",
    "for i in range(len(small_grid_data.index)):\n",
    "    print('prediction progress: ', np.round(i * 100 / small_grid_data.index.size, decimals=2), '%')\n",
    "    \n",
    "    timestamp = small_grid_data.index[i]\n",
    "    \n",
    "    lstm_cc_predicted_demand = pd.concat([lstm_cc_predicted_demand, predict_demand_lstm_cc(timestamp)]) \n",
    "    \n",
    "lstm_cc_predicted_demand"
   ],
   "id": "8e29d362938d7395",
   "outputs": [],
   "execution_count": null
  },
  {
   "metadata": {},
   "cell_type": "code",
   "source": "lstm_cc_predicted_demand.to_pickle(lstm_cc_models_output_path)",
   "id": "3740f077f3449bf0",
   "outputs": [],
   "execution_count": null
  },
  {
   "metadata": {},
   "cell_type": "markdown",
   "source": "# LSTM Weather",
   "id": "4f2d91740e997437"
  },
  {
   "metadata": {},
   "cell_type": "code",
   "source": [
    "lstm_weather_predicted_demand = pd.DataFrame() \n",
    "for i in range(len(large_grid_data.index)):\n",
    "    print('prediction progress: ', np.round(i * 100 / large_grid_data.index.size, decimals=2), '%')\n",
    "    \n",
    "    timestamp = large_grid_data.index[i]\n",
    "    temperature = large_grid_data.loc[timestamp, 'temperature']\n",
    "    precipitation = large_grid_data.loc[timestamp, 'precipitation']\n",
    "    \n",
    "    lstm_weather_predicted_demand = pd.concat([lstm_weather_predicted_demand, predict_demand_lstm_weather(timestamp, temperature, precipitation)])\n",
    "    \n",
    "lstm_weather_predicted_demand"
   ],
   "id": "c8193e602589e13e",
   "outputs": [],
   "execution_count": null
  },
  {
   "metadata": {},
   "cell_type": "code",
   "source": "lstm_weather_predicted_demand.to_pickle(lstm_weather_models_output_path)",
   "id": "5a9de53b24346251",
   "outputs": [],
   "execution_count": null
  },
  {
   "metadata": {},
   "cell_type": "markdown",
   "source": "# LSTM CC Weather",
   "id": "a4aaa200c2969b6c"
  },
  {
   "metadata": {},
   "cell_type": "code",
   "source": [
    "lstm_cc_weather_predicted_demand = pd.DataFrame()\n",
    "for i in range(len(small_grid_data.index)):\n",
    "    print('prediction progress: ', np.round(i * 100 / small_grid_data.index.size, decimals=2), '%')\n",
    "    \n",
    "    timestamp = small_grid_data.index[i]\n",
    "    temperature = small_grid_data.loc[timestamp, 'temperature']\n",
    "    precipitation = small_grid_data.loc[timestamp, 'precipitation']\n",
    "    \n",
    "    lstm_cc_weather_predicted_demand = pd.concat([lstm_cc_weather_predicted_demand, predict_demand_lstm_cc_weather(timestamp, temperature, precipitation)])\n",
    "    \n",
    "lstm_cc_weather_predicted_demand"
   ],
   "id": "8c74f5d1dab47c47",
   "outputs": [],
   "execution_count": null
  },
  {
   "metadata": {},
   "cell_type": "code",
   "source": "lstm_cc_weather_predicted_demand.to_pickle(lstm_cc_weather_models_output_path)",
   "id": "ed9cdda308b6a962",
   "outputs": [],
   "execution_count": null
  },
  {
   "metadata": {},
   "cell_type": "markdown",
   "source": "",
   "id": "fc59331854a80fc2"
  },
  {
   "metadata": {},
   "cell_type": "markdown",
   "source": "# LSTM Voronoi CC",
   "id": "c3f0c327042165e9"
  },
  {
   "metadata": {},
   "cell_type": "code",
   "source": [
    "lstm_voronoi_predicted_demand = pd.DataFrame() \n",
    "for i in range(len(voronoi_data.index)):\n",
    "    print('prediction progress: ', np.round(i * 100 / voronoi_data.index.size, decimals=2), '%')\n",
    "    \n",
    "    timestamp = voronoi_data.index[i]\n",
    "    \n",
    "    lstm_voronoi_predicted_demand = pd.concat([lstm_voronoi_predicted_demand, predict_demand_lstm_voronoi_cc(timestamp)]) \n",
    "    \n",
    "lstm_voronoi_predicted_demand"
   ],
   "id": "e7317657a0de29f6",
   "outputs": [],
   "execution_count": null
  },
  {
   "metadata": {},
   "cell_type": "code",
   "source": "lstm_voronoi_predicted_demand.to_pickle(lstm_voronoi_cc_models_output_path)",
   "id": "b6b67fec2cddc663",
   "outputs": [],
   "execution_count": null
  },
  {
   "metadata": {},
   "cell_type": "markdown",
   "source": "# LSTM Voronoi CC Weather",
   "id": "992e2b0fc49bffff"
  },
  {
   "metadata": {},
   "cell_type": "code",
   "source": [
    "lstm_voronoi_weather_predicted_demand = pd.DataFrame()\n",
    "for i in range(len(voronoi_data.index)):\n",
    "    print('prediction progress: ', np.round(i * 100 / voronoi_data.index.size, decimals=2), '%')\n",
    "    \n",
    "    timestamp = voronoi_data.index[i]\n",
    "    temperature = voronoi_data.loc[timestamp, 'temperature']\n",
    "    precipitation = voronoi_data.loc[timestamp, 'precipitation']\n",
    "    \n",
    "    lstm_voronoi_weather_predicted_demand = pd.concat([lstm_voronoi_weather_predicted_demand, predict_demand_lstm_voronoi_cc_weather(timestamp, temperature, precipitation)])\n",
    "    \n",
    "lstm_voronoi_weather_predicted_demand"
   ],
   "id": "dd31893cd3fe55c4",
   "outputs": [],
   "execution_count": null
  },
  {
   "metadata": {},
   "cell_type": "code",
   "source": "lstm_voronoi_weather_predicted_demand.to_pickle(lstm_voronoi_cc_weather_models_output_path)",
   "id": "650e763c47a313a",
   "outputs": [],
   "execution_count": null
  }
 ],
 "metadata": {
  "kernelspec": {
   "display_name": "Python 3",
   "language": "python",
   "name": "python3"
  },
  "language_info": {
   "codemirror_mode": {
    "name": "ipython",
    "version": 2
   },
   "file_extension": ".py",
   "mimetype": "text/x-python",
   "name": "python",
   "nbconvert_exporter": "python",
   "pygments_lexer": "ipython2",
   "version": "2.7.6"
  }
 },
 "nbformat": 4,
 "nbformat_minor": 5
}
