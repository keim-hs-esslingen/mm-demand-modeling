{
 "cells": [
  {
   "metadata": {},
   "cell_type": "markdown",
   "source": [
    "# Evaluation\n",
    "Calculating metrics for the evaluation of the trained models"
   ],
   "id": "8651d4c80562c940"
  },
  {
   "metadata": {
    "ExecuteTime": {
     "end_time": "2024-07-22T07:26:55.787398Z",
     "start_time": "2024-07-22T07:26:55.784516Z"
    }
   },
   "cell_type": "code",
   "source": [
    "# imports\n",
    "import pandas as pd\n",
    "from sklearn.metrics import mean_squared_error\n",
    "from sklearn.metrics import mean_absolute_error\n",
    "from sklearn.metrics import r2_score\n",
    "import numpy as np\n",
    "from scipy.special import kl_div"
   ],
   "id": "a78da73870aca8b",
   "outputs": [],
   "execution_count": 314
  },
  {
   "metadata": {
    "ExecuteTime": {
     "end_time": "2024-07-22T07:26:55.809309Z",
     "start_time": "2024-07-22T07:26:55.806703Z"
    }
   },
   "cell_type": "code",
   "source": [
    "# variables\n",
    "data_input_filepath = './pickles/reservations_testing.pickle'\n",
    "\n",
    "lstm_models_input_path = './pickles/results/demand/lstm_demand_prediction.pickle'\n",
    "lstm_weather_models_input_path = './pickles/results/demand/lstm_weather_demand_prediction.pickle'\n",
    "lstm_cc_models_input_path = './pickles/results/demand/lstm_cc_demand_prediction.pickle'\n",
    "lstm_cc_weather_models_input_path = './pickles/results/demand/lstm_cc_weather_demand_prediction.pickle'\n",
    "lstm_voronoi_cc_models_input_path = './pickles/results/demand/lstm_voronoi_cc_demand_prediction.pickle'\n",
    "lstm_voronoi_cc_weather_models_input_path = './pickles/results/demand/lstm_voronoi_cc_weather_demand_prediction.pickle'\n",
    "\n",
    "evaluation_output_path = './pickles/results/dl_evaluation_results.pickle'"
   ],
   "id": "6ffc4cb4284f71ef",
   "outputs": [],
   "execution_count": 315
  },
  {
   "metadata": {
    "ExecuteTime": {
     "end_time": "2024-07-22T07:26:55.926671Z",
     "start_time": "2024-07-22T07:26:55.823024Z"
    }
   },
   "cell_type": "code",
   "source": [
    "# load data\n",
    "validation_data = pd.read_pickle(data_input_filepath)\n",
    "\n",
    "lstm_model_demand = pd.read_pickle(lstm_models_input_path)\n",
    "lstm_weather_model_demand = pd.read_pickle(lstm_weather_models_input_path)\n",
    "lstm_cc_model_demand = pd.read_pickle(lstm_cc_models_input_path)\n",
    "lstm_cc_weather_model_demand = pd.read_pickle(lstm_cc_weather_models_input_path)\n",
    "lstm_voronoi_cc_model_demand = pd.read_pickle(lstm_voronoi_cc_models_input_path)\n",
    "lstm_voronoi_cc_weather_model_demand = pd.read_pickle(lstm_voronoi_cc_weather_models_input_path)"
   ],
   "id": "caeebfde1222ae34",
   "outputs": [],
   "execution_count": 316
  },
  {
   "metadata": {
    "ExecuteTime": {
     "end_time": "2024-07-22T07:26:55.937770Z",
     "start_time": "2024-07-22T07:26:55.928125Z"
    }
   },
   "cell_type": "code",
   "source": [
    "validation_data.set_index('startTime', inplace=True)\n",
    "validation_data.sort_index(inplace=True)\n",
    "validation_data.head()"
   ],
   "id": "7b40e87812a9ef11",
   "outputs": [
    {
     "data": {
      "text/plain": [
       "                                endTime   startLat  startLon     endLat  \\\n",
       "startTime                                                                 \n",
       "2017-10-14 14:45:03 2017-10-14 15:05:06  48.777477  9.179767  48.772057   \n",
       "2017-10-14 14:58:06 2017-10-14 15:15:42  48.783566  9.157743  48.797287   \n",
       "2017-10-14 15:00:42 2017-10-14 15:06:43  48.767025  9.175741  48.767883   \n",
       "2017-10-14 16:09:02 2017-10-14 16:15:25  48.764015  9.167205  48.763809   \n",
       "2017-10-14 17:16:20 2017-10-14 17:41:23  48.761551  9.161797  48.772068   \n",
       "\n",
       "                       endLon  voronoi_grid_id  temperature  precipitation  \\\n",
       "startTime                                                                    \n",
       "2017-10-14 14:45:03  9.177928              592         20.4            0.0   \n",
       "2017-10-14 14:58:06  9.208840              585         20.4            0.0   \n",
       "2017-10-14 15:00:42  9.176202              514         20.0            0.0   \n",
       "2017-10-14 16:09:02  9.176042              685         18.6            0.0   \n",
       "2017-10-14 17:16:20  9.124672              696         17.6            0.0   \n",
       "\n",
       "                     small_grid_id  large_grid_id  \n",
       "startTime                                          \n",
       "2017-10-14 14:45:03           3442            142  \n",
       "2017-10-14 14:58:06           2558             98  \n",
       "2017-10-14 15:00:42           3289            126  \n",
       "2017-10-14 16:09:02           2917            111  \n",
       "2017-10-14 17:16:20           2694            111  "
      ],
      "text/html": [
       "<div>\n",
       "<style scoped>\n",
       "    .dataframe tbody tr th:only-of-type {\n",
       "        vertical-align: middle;\n",
       "    }\n",
       "\n",
       "    .dataframe tbody tr th {\n",
       "        vertical-align: top;\n",
       "    }\n",
       "\n",
       "    .dataframe thead th {\n",
       "        text-align: right;\n",
       "    }\n",
       "</style>\n",
       "<table border=\"1\" class=\"dataframe\">\n",
       "  <thead>\n",
       "    <tr style=\"text-align: right;\">\n",
       "      <th></th>\n",
       "      <th>endTime</th>\n",
       "      <th>startLat</th>\n",
       "      <th>startLon</th>\n",
       "      <th>endLat</th>\n",
       "      <th>endLon</th>\n",
       "      <th>voronoi_grid_id</th>\n",
       "      <th>temperature</th>\n",
       "      <th>precipitation</th>\n",
       "      <th>small_grid_id</th>\n",
       "      <th>large_grid_id</th>\n",
       "    </tr>\n",
       "    <tr>\n",
       "      <th>startTime</th>\n",
       "      <th></th>\n",
       "      <th></th>\n",
       "      <th></th>\n",
       "      <th></th>\n",
       "      <th></th>\n",
       "      <th></th>\n",
       "      <th></th>\n",
       "      <th></th>\n",
       "      <th></th>\n",
       "      <th></th>\n",
       "    </tr>\n",
       "  </thead>\n",
       "  <tbody>\n",
       "    <tr>\n",
       "      <th>2017-10-14 14:45:03</th>\n",
       "      <td>2017-10-14 15:05:06</td>\n",
       "      <td>48.777477</td>\n",
       "      <td>9.179767</td>\n",
       "      <td>48.772057</td>\n",
       "      <td>9.177928</td>\n",
       "      <td>592</td>\n",
       "      <td>20.4</td>\n",
       "      <td>0.0</td>\n",
       "      <td>3442</td>\n",
       "      <td>142</td>\n",
       "    </tr>\n",
       "    <tr>\n",
       "      <th>2017-10-14 14:58:06</th>\n",
       "      <td>2017-10-14 15:15:42</td>\n",
       "      <td>48.783566</td>\n",
       "      <td>9.157743</td>\n",
       "      <td>48.797287</td>\n",
       "      <td>9.208840</td>\n",
       "      <td>585</td>\n",
       "      <td>20.4</td>\n",
       "      <td>0.0</td>\n",
       "      <td>2558</td>\n",
       "      <td>98</td>\n",
       "    </tr>\n",
       "    <tr>\n",
       "      <th>2017-10-14 15:00:42</th>\n",
       "      <td>2017-10-14 15:06:43</td>\n",
       "      <td>48.767025</td>\n",
       "      <td>9.175741</td>\n",
       "      <td>48.767883</td>\n",
       "      <td>9.176202</td>\n",
       "      <td>514</td>\n",
       "      <td>20.0</td>\n",
       "      <td>0.0</td>\n",
       "      <td>3289</td>\n",
       "      <td>126</td>\n",
       "    </tr>\n",
       "    <tr>\n",
       "      <th>2017-10-14 16:09:02</th>\n",
       "      <td>2017-10-14 16:15:25</td>\n",
       "      <td>48.764015</td>\n",
       "      <td>9.167205</td>\n",
       "      <td>48.763809</td>\n",
       "      <td>9.176042</td>\n",
       "      <td>685</td>\n",
       "      <td>18.6</td>\n",
       "      <td>0.0</td>\n",
       "      <td>2917</td>\n",
       "      <td>111</td>\n",
       "    </tr>\n",
       "    <tr>\n",
       "      <th>2017-10-14 17:16:20</th>\n",
       "      <td>2017-10-14 17:41:23</td>\n",
       "      <td>48.761551</td>\n",
       "      <td>9.161797</td>\n",
       "      <td>48.772068</td>\n",
       "      <td>9.124672</td>\n",
       "      <td>696</td>\n",
       "      <td>17.6</td>\n",
       "      <td>0.0</td>\n",
       "      <td>2694</td>\n",
       "      <td>111</td>\n",
       "    </tr>\n",
       "  </tbody>\n",
       "</table>\n",
       "</div>"
      ]
     },
     "execution_count": 317,
     "metadata": {},
     "output_type": "execute_result"
    }
   ],
   "execution_count": 317
  },
  {
   "metadata": {
    "ExecuteTime": {
     "end_time": "2024-07-22T07:26:56.336915Z",
     "start_time": "2024-07-22T07:26:55.938779Z"
    }
   },
   "cell_type": "code",
   "source": [
    "# create validation data to evaluate each model\n",
    "lstm_validation_data = validation_data.resample('H').large_grid_id.value_counts().unstack().fillna(0)\n",
    "lstm_validation_data.columns = lstm_validation_data.columns.map(str)\n",
    "lstm_validation_data.sort_index(axis=1, inplace=True)\n",
    "\n",
    "lstm_weather_validation_data = validation_data.resample('H').large_grid_id.value_counts().unstack().fillna(0)\n",
    "lstm_weather_validation_data.columns = lstm_weather_validation_data.columns.map(str)\n",
    "lstm_weather_validation_data.sort_index(axis=1, inplace=True)\n",
    "\n",
    "lstm_cc_validation_data = validation_data.resample('H').small_grid_id.value_counts().unstack().fillna(0)\n",
    "lstm_cc_validation_data.columns = lstm_cc_validation_data.columns.map(str)\n",
    "lstm_cc_validation_data.sort_index(axis=1, inplace=True)\n",
    "\n",
    "lstm_cc_weather_validation_data = validation_data.resample('H').small_grid_id.value_counts().unstack().fillna(0)\n",
    "lstm_cc_weather_validation_data.columns = lstm_cc_weather_validation_data.columns.map(str)\n",
    "lstm_cc_weather_validation_data.sort_index(axis=1, inplace=True)\n",
    "\n",
    "lstm_voronoi_cc_validation_data = validation_data.resample('H').voronoi_grid_id.value_counts().unstack().fillna(0)\n",
    "lstm_voronoi_cc_validation_data.columns = lstm_voronoi_cc_validation_data.columns.map(str)\n",
    "lstm_voronoi_cc_validation_data.sort_index(axis=1, inplace=True)\n",
    "\n",
    "lstm_voronoi_cc_weather_validation_data = validation_data.resample('H').voronoi_grid_id.value_counts().unstack().fillna(0)\n",
    "lstm_voronoi_cc_weather_validation_data.columns = lstm_voronoi_cc_weather_validation_data.columns.map(str)\n",
    "lstm_voronoi_cc_weather_validation_data.sort_index(axis=1, inplace=True)"
   ],
   "id": "d74fcdf76c6a57d0",
   "outputs": [],
   "execution_count": 318
  },
  {
   "metadata": {
    "ExecuteTime": {
     "end_time": "2024-07-22T07:26:56.342895Z",
     "start_time": "2024-07-22T07:26:56.338569Z"
    }
   },
   "cell_type": "code",
   "source": [
    "# convert column names to strings\n",
    "lstm_model_demand.columns = lstm_model_demand.columns.map(str)\n",
    "lstm_weather_model_demand.columns = lstm_weather_model_demand.columns.map(str)\n",
    "lstm_cc_model_demand.columns = lstm_cc_model_demand.columns.map(str)\n",
    "lstm_cc_weather_model_demand.columns = lstm_cc_weather_model_demand.columns.map(str)\n",
    "lstm_voronoi_cc_model_demand.columns = lstm_voronoi_cc_model_demand.columns.map(str)\n",
    "lstm_voronoi_cc_weather_model_demand.columns = lstm_voronoi_cc_weather_model_demand.columns.map(str)"
   ],
   "id": "5d835845f0f37b35",
   "outputs": [],
   "execution_count": 319
  },
  {
   "metadata": {
    "ExecuteTime": {
     "end_time": "2024-07-22T07:26:56.346762Z",
     "start_time": "2024-07-22T07:26:56.343710Z"
    }
   },
   "cell_type": "code",
   "source": [
    "# add missing columns to both dataframes\n",
    "def align_columns(df1, df2):\n",
    "    combined = pd.concat([df1, df2], axis=1)\n",
    "\n",
    "    # Reindex both dataframes to include all columns\n",
    "    df1_aligned = df1.reindex(columns=combined.columns, fill_value=0)\n",
    "    df2_aligned = df2.reindex(columns=combined.columns, fill_value=0)\n",
    "    \n",
    "    # sort columns alphabetically\n",
    "    df1_aligned = df1_aligned[sorted(df1_aligned.columns)]\n",
    "    df2_aligned = df2_aligned[sorted(df2_aligned.columns)]\n",
    "    \n",
    "    # sort values\n",
    "    df1_aligned.sort_index(axis=1, inplace=True)\n",
    "    df2_aligned.sort_index(axis=1, inplace=True)\n",
    "\n",
    "    return df1_aligned, df2_aligned"
   ],
   "id": "380c12a934e6876b",
   "outputs": [],
   "execution_count": 320
  },
  {
   "metadata": {},
   "cell_type": "markdown",
   "source": "## Calculate metrics",
   "id": "643c2c55d9bed567"
  },
  {
   "metadata": {
    "ExecuteTime": {
     "end_time": "2024-07-22T07:26:56.349726Z",
     "start_time": "2024-07-22T07:26:56.347409Z"
    }
   },
   "cell_type": "code",
   "source": [
    "def normalize_array_columns(arr):\n",
    "    # Normalize each column so that it sums to 1, avoiding division by zero\n",
    "    column_sums = arr.sum(axis=0, keepdims=True)\n",
    "    column_sums[column_sums == 0] = 1  \n",
    "    return arr / column_sums"
   ],
   "id": "8f90c063131fc15d",
   "outputs": [],
   "execution_count": 321
  },
  {
   "metadata": {
    "ExecuteTime": {
     "end_time": "2024-07-22T07:26:56.353266Z",
     "start_time": "2024-07-22T07:26:56.350592Z"
    }
   },
   "cell_type": "code",
   "source": [
    "def calculate_metrics(y_true, y_pred):\n",
    "    mse = mean_squared_error(y_true, y_pred)\n",
    "    mae = mean_absolute_error(y_true, y_pred)\n",
    "    r2 = r2_score(y_true, y_pred)\n",
    "    kl_1 = kl_div(normalize_array_columns(y_true), normalize_array_columns(y_pred))\n",
    "    kl_2 = kl_div(normalize_array_columns(y_pred), normalize_array_columns(y_true))\n",
    "    return [mse, mae, r2, np.median(kl_1), np.median(kl_2)]"
   ],
   "id": "5f189d947afd3e8d",
   "outputs": [],
   "execution_count": 322
  },
  {
   "metadata": {
    "ExecuteTime": {
     "end_time": "2024-07-22T07:26:56.622342Z",
     "start_time": "2024-07-22T07:26:56.354129Z"
    }
   },
   "cell_type": "code",
   "source": [
    "# LSTM\n",
    "lstm_validation_data, lstm_model_demand = align_columns(lstm_validation_data, lstm_model_demand)\n",
    "lstm_model_demand_metrics = calculate_metrics(lstm_validation_data.values, lstm_model_demand.values)"
   ],
   "id": "b6151d1466e1b5fd",
   "outputs": [],
   "execution_count": 323
  },
  {
   "metadata": {
    "ExecuteTime": {
     "end_time": "2024-07-22T07:26:56.890101Z",
     "start_time": "2024-07-22T07:26:56.623692Z"
    }
   },
   "cell_type": "code",
   "source": [
    "# LSTM_weather\n",
    "lstm_weather_validation_data, lstm_weather_model_demand = align_columns(lstm_weather_validation_data, lstm_weather_model_demand)\n",
    "lstm_weather_model_demand_metrics = calculate_metrics(lstm_weather_validation_data.values, lstm_weather_model_demand.values)"
   ],
   "id": "77af9f2eb0a86fe1",
   "outputs": [],
   "execution_count": 324
  },
  {
   "metadata": {
    "ExecuteTime": {
     "end_time": "2024-07-22T07:27:00.464577Z",
     "start_time": "2024-07-22T07:26:56.892684Z"
    }
   },
   "cell_type": "code",
   "source": [
    "# LSTM_CC\n",
    "lstm_cc_validation_data, lstm_cc_model_demand = align_columns(lstm_cc_validation_data, lstm_cc_model_demand)\n",
    "lstm_cc_model_demand_metrics = calculate_metrics(lstm_cc_validation_data.values, lstm_cc_model_demand.values)"
   ],
   "id": "7a20302210aaf40b",
   "outputs": [],
   "execution_count": 325
  },
  {
   "metadata": {
    "ExecuteTime": {
     "end_time": "2024-07-22T07:27:03.900878Z",
     "start_time": "2024-07-22T07:27:00.467172Z"
    }
   },
   "cell_type": "code",
   "source": [
    "# LSTM_CC_weather\n",
    "lstm_cc_weather_validation_data, lstm_cc_weather_model_demand = align_columns(lstm_cc_weather_validation_data, lstm_cc_weather_model_demand)\n",
    "lstm_cc_weather_model_demand_metrics = calculate_metrics(lstm_cc_weather_validation_data.values, lstm_cc_weather_model_demand.values)"
   ],
   "id": "837c20bbef20f095",
   "outputs": [],
   "execution_count": 326
  },
  {
   "metadata": {
    "ExecuteTime": {
     "end_time": "2024-07-22T07:27:05.622281Z",
     "start_time": "2024-07-22T07:27:03.902347Z"
    }
   },
   "cell_type": "code",
   "source": [
    "# LSTM_Voronoi_CC\n",
    "lstm_voronoi_cc_validation_data, lstm_voronoi_cc_model_demand = align_columns(lstm_voronoi_cc_validation_data, lstm_voronoi_cc_model_demand)\n",
    "lstm_voronoi_cc_model_demand_metrics = calculate_metrics(lstm_voronoi_cc_validation_data.values, lstm_voronoi_cc_model_demand.values)"
   ],
   "id": "7a6b954e93d6230c",
   "outputs": [],
   "execution_count": 327
  },
  {
   "metadata": {
    "ExecuteTime": {
     "end_time": "2024-07-22T07:27:07.396595Z",
     "start_time": "2024-07-22T07:27:05.623472Z"
    }
   },
   "cell_type": "code",
   "source": [
    "# LSTM_Voronoi_CC_weather\n",
    "lstm_voronoi_cc_weather_validation_data, lstm_voronoi_cc_weather_model_demand = align_columns(lstm_voronoi_cc_weather_validation_data, lstm_voronoi_cc_weather_model_demand)\n",
    "lstm_voronoi_cc_weather_model_demand_metrics = calculate_metrics(lstm_voronoi_cc_weather_validation_data.values, lstm_voronoi_cc_weather_model_demand.values)"
   ],
   "id": "f52df685c2fd877e",
   "outputs": [],
   "execution_count": 328
  },
  {
   "metadata": {
    "ExecuteTime": {
     "end_time": "2024-07-22T07:27:07.407520Z",
     "start_time": "2024-07-22T07:27:07.397649Z"
    }
   },
   "cell_type": "code",
   "source": [
    "# create dataframe with metrics\n",
    "model_evaluation_metrics = pd.DataFrame({'model': ['lstm', 'lstm_weather', 'lstm_cc', 'lstm_cc_weather', 'lstm_voronoi_cc', 'lstm_voronoi_cc_weather'], 'mse': [lstm_model_demand_metrics[0], lstm_weather_model_demand_metrics[0], lstm_cc_model_demand_metrics[0], lstm_cc_weather_model_demand_metrics[0], lstm_voronoi_cc_model_demand_metrics[0], lstm_voronoi_cc_weather_model_demand_metrics[0]], 'mae': [lstm_model_demand_metrics[1], lstm_weather_model_demand_metrics[1], lstm_cc_model_demand_metrics[1], lstm_cc_weather_model_demand_metrics[1], lstm_voronoi_cc_model_demand_metrics[1], lstm_voronoi_cc_weather_model_demand_metrics[1]], 'r2': [lstm_model_demand_metrics[2], lstm_weather_model_demand_metrics[2], lstm_cc_model_demand_metrics[2], lstm_cc_weather_model_demand_metrics[2], lstm_voronoi_cc_model_demand_metrics[2], lstm_voronoi_cc_weather_model_demand_metrics[2]], 'kl_1': [lstm_model_demand_metrics[3], lstm_weather_model_demand_metrics[3], lstm_cc_model_demand_metrics[3], lstm_cc_weather_model_demand_metrics[3], lstm_voronoi_cc_model_demand_metrics[3], lstm_voronoi_cc_weather_model_demand_metrics[3]], 'kl_2': [lstm_model_demand_metrics[4], lstm_weather_model_demand_metrics[4], lstm_cc_model_demand_metrics[4], lstm_cc_weather_model_demand_metrics[4], lstm_voronoi_cc_model_demand_metrics[4], lstm_voronoi_cc_weather_model_demand_metrics[4]]})\n",
    "model_evaluation_metrics"
   ],
   "id": "6ab3b099f23fbcea",
   "outputs": [
    {
     "data": {
      "text/plain": [
       "                     model       mse       mae         r2      kl_1  kl_2\n",
       "0                     lstm  0.028057  0.059605 -10.580745  0.000072   inf\n",
       "1             lstm_weather  0.033568  0.064695 -24.384932  0.000071   inf\n",
       "2                  lstm_cc  0.000951  0.002973  -0.043849  0.000071   inf\n",
       "3          lstm_cc_weather  0.001042  0.005058  -0.168338  0.000070   inf\n",
       "4          lstm_voronoi_cc  0.000722  0.002496  -0.000699  0.000027   inf\n",
       "5  lstm_voronoi_cc_weather  0.000790  0.004218  -0.000699  0.000018   inf"
      ],
      "text/html": [
       "<div>\n",
       "<style scoped>\n",
       "    .dataframe tbody tr th:only-of-type {\n",
       "        vertical-align: middle;\n",
       "    }\n",
       "\n",
       "    .dataframe tbody tr th {\n",
       "        vertical-align: top;\n",
       "    }\n",
       "\n",
       "    .dataframe thead th {\n",
       "        text-align: right;\n",
       "    }\n",
       "</style>\n",
       "<table border=\"1\" class=\"dataframe\">\n",
       "  <thead>\n",
       "    <tr style=\"text-align: right;\">\n",
       "      <th></th>\n",
       "      <th>model</th>\n",
       "      <th>mse</th>\n",
       "      <th>mae</th>\n",
       "      <th>r2</th>\n",
       "      <th>kl_1</th>\n",
       "      <th>kl_2</th>\n",
       "    </tr>\n",
       "  </thead>\n",
       "  <tbody>\n",
       "    <tr>\n",
       "      <th>0</th>\n",
       "      <td>lstm</td>\n",
       "      <td>0.028057</td>\n",
       "      <td>0.059605</td>\n",
       "      <td>-10.580745</td>\n",
       "      <td>0.000072</td>\n",
       "      <td>inf</td>\n",
       "    </tr>\n",
       "    <tr>\n",
       "      <th>1</th>\n",
       "      <td>lstm_weather</td>\n",
       "      <td>0.033568</td>\n",
       "      <td>0.064695</td>\n",
       "      <td>-24.384932</td>\n",
       "      <td>0.000071</td>\n",
       "      <td>inf</td>\n",
       "    </tr>\n",
       "    <tr>\n",
       "      <th>2</th>\n",
       "      <td>lstm_cc</td>\n",
       "      <td>0.000951</td>\n",
       "      <td>0.002973</td>\n",
       "      <td>-0.043849</td>\n",
       "      <td>0.000071</td>\n",
       "      <td>inf</td>\n",
       "    </tr>\n",
       "    <tr>\n",
       "      <th>3</th>\n",
       "      <td>lstm_cc_weather</td>\n",
       "      <td>0.001042</td>\n",
       "      <td>0.005058</td>\n",
       "      <td>-0.168338</td>\n",
       "      <td>0.000070</td>\n",
       "      <td>inf</td>\n",
       "    </tr>\n",
       "    <tr>\n",
       "      <th>4</th>\n",
       "      <td>lstm_voronoi_cc</td>\n",
       "      <td>0.000722</td>\n",
       "      <td>0.002496</td>\n",
       "      <td>-0.000699</td>\n",
       "      <td>0.000027</td>\n",
       "      <td>inf</td>\n",
       "    </tr>\n",
       "    <tr>\n",
       "      <th>5</th>\n",
       "      <td>lstm_voronoi_cc_weather</td>\n",
       "      <td>0.000790</td>\n",
       "      <td>0.004218</td>\n",
       "      <td>-0.000699</td>\n",
       "      <td>0.000018</td>\n",
       "      <td>inf</td>\n",
       "    </tr>\n",
       "  </tbody>\n",
       "</table>\n",
       "</div>"
      ]
     },
     "execution_count": 329,
     "metadata": {},
     "output_type": "execute_result"
    }
   ],
   "execution_count": 329
  },
  {
   "metadata": {
    "ExecuteTime": {
     "end_time": "2024-07-22T07:27:07.411853Z",
     "start_time": "2024-07-22T07:27:07.408604Z"
    }
   },
   "cell_type": "code",
   "source": [
    "# save metrics\n",
    "model_evaluation_metrics.to_pickle(evaluation_output_path)"
   ],
   "id": "50513a7e78e70ee5",
   "outputs": [],
   "execution_count": 330
  }
 ],
 "metadata": {
  "kernelspec": {
   "display_name": "Python 3",
   "language": "python",
   "name": "python3"
  },
  "language_info": {
   "codemirror_mode": {
    "name": "ipython",
    "version": 2
   },
   "file_extension": ".py",
   "mimetype": "text/x-python",
   "name": "python",
   "nbconvert_exporter": "python",
   "pygments_lexer": "ipython2",
   "version": "2.7.6"
  }
 },
 "nbformat": 4,
 "nbformat_minor": 5
}
