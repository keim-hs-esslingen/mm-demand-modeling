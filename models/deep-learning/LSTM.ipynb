{
 "cells": [
  {
   "metadata": {},
   "cell_type": "markdown",
   "source": [
    "# LSTM Model\n",
    "Reservations are aggregated by grid cells (1000m x 1000m).\n",
    "\n",
    "Inspired by: https://github.com/HAKO411/Deep-Learning-for-Short-term-bike-sharing-demand-prediction"
   ]
  },
  {
   "cell_type": "code",
   "metadata": {
    "id": "sdxOIwGW5cDQ",
    "executionInfo": {
     "status": "ok",
     "timestamp": 1662333949748,
     "user_tz": -120,
     "elapsed": 3372,
     "user": {
      "displayName": "Tri Dung Huynh",
      "userId": "00185777558728664115"
     }
    }
   },
   "source": [
    "# imports\n",
    "import pandas as pd\n",
    "\n",
    "import tensorflow as tf"
   ],
   "outputs": [],
   "execution_count": null
  },
  {
   "metadata": {},
   "cell_type": "markdown",
   "source": [
    "## Data Preparation\n",
    "Preparing data to train the cnn-lstm model"
   ]
  },
  {
   "cell_type": "code",
   "source": [
    "# variables\n",
    "training_data_filepath = '../../pickles/reservations_training.pickle'\n",
    "validation_data_filepath = '../../pickles/reservations_validation.pickle'\n",
    "\n",
    "results_filepath = '../../pickles/results/lstm_results.pickle'"
   ],
   "metadata": {
    "collapsed": false
   },
   "outputs": [],
   "execution_count": null
  },
  {
   "metadata": {},
   "cell_type": "code",
   "source": [
    "# training variables\n",
    "num_units = 50\n",
    "batch_size = 32\n",
    "epochs = 20\n",
    "learning_rate = 0.001\n",
    "loss_function = 'mean_squared_error'\n",
    "seed = 42\n",
    "dropout = 0.1\n",
    "\n",
    "num_input_features = 3"
   ],
   "outputs": [],
   "execution_count": null
  },
  {
   "cell_type": "code",
   "metadata": {
    "colab": {
     "base_uri": "https://localhost:8080/"
    },
    "id": "Y0O27k085lPe",
    "outputId": "ad545b1a-d54f-4c41-92fc-c7e1b27f1b6c",
    "executionInfo": {
     "status": "ok",
     "timestamp": 1662333996900,
     "user_tz": -120,
     "elapsed": 47157,
     "user": {
      "displayName": "Tri Dung Huynh",
      "userId": "00185777558728664115"
     }
    }
   },
   "source": [
    "# load data\n",
    "input_training_data = pd.read_pickle(training_data_filepath)\n",
    "input_training_data.set_index('startTime', inplace=True)\n",
    "input_training_data.index = pd.to_datetime(input_training_data.index)\n",
    "input_training_data.head()"
   ],
   "outputs": [],
   "execution_count": null
  },
  {
   "metadata": {},
   "cell_type": "code",
   "source": [
    "# load data\n",
    "input_validation_data = pd.read_pickle(validation_data_filepath)\n",
    "input_validation_data.set_index('startTime', inplace=True)\n",
    "input_validation_data.index = pd.to_datetime(input_validation_data.index)\n",
    "input_validation_data.head()"
   ],
   "outputs": [],
   "execution_count": null
  },
  {
   "metadata": {},
   "cell_type": "code",
   "source": [
    "# transform data\n",
    "training_data = input_training_data.resample('h').large_grid_id.value_counts().unstack().fillna(0)\n",
    "training_data.sort_index(inplace=True, axis=1)\n",
    "training_data.head()"
   ],
   "outputs": [],
   "execution_count": null
  },
  {
   "metadata": {},
   "cell_type": "code",
   "source": [
    "# decompose timestamp\n",
    "training_data['hour'] = training_data.index.hour\n",
    "training_data['day'] = training_data.index.dayofweek\n",
    "training_data['month'] = training_data.index.month\n",
    "training_data.columns = training_data.columns.astype(str)\n",
    "training_data = training_data.reindex(sorted(training_data.columns, reverse=True), axis=1)\n",
    "training_data.head()"
   ],
   "outputs": [],
   "execution_count": null
  },
  {
   "metadata": {},
   "cell_type": "code",
   "source": [
    "# transform data\n",
    "validation_data = input_validation_data.resample('h').large_grid_id.value_counts().unstack().fillna(0)\n",
    "validation_data.sort_index(inplace=True, axis=1)\n",
    "validation_data.head()"
   ],
   "outputs": [],
   "execution_count": null
  },
  {
   "metadata": {},
   "cell_type": "code",
   "source": [
    "# decompose timestamp\n",
    "validation_data['hour'] = validation_data.index.hour\n",
    "validation_data['day'] = validation_data.index.dayofweek\n",
    "validation_data['month'] = validation_data.index.month\n",
    "validation_data.columns = validation_data.columns.astype(str)\n",
    "validation_data = validation_data.reindex(sorted(validation_data.columns, reverse=True), axis=1)\n",
    "validation_data.head()"
   ],
   "outputs": [],
   "execution_count": null
  },
  {
   "cell_type": "code",
   "metadata": {
    "colab": {
     "base_uri": "https://localhost:8080/",
     "height": 745
    },
    "id": "13AIvcHn5z_h",
    "outputId": "98d4d12c-84bd-4f54-8065-0eef774850b7",
    "executionInfo": {
     "status": "ok",
     "timestamp": 1662333996901,
     "user_tz": -120,
     "elapsed": 17,
     "user": {
      "displayName": "Tri Dung Huynh",
      "userId": "00185777558728664115"
     }
    }
   },
   "source": [
    "# index is timestamp (hourly)\n",
    "# columns are the grid cells\n",
    "# values are the demand e.g. pickup in the timeframe\n",
    "full_demand = training_data\n",
    "full_demand.head()"
   ],
   "outputs": [],
   "execution_count": null
  },
  {
   "metadata": {},
   "cell_type": "code",
   "source": [
    "# get values, grid-cell name and drop null values\n",
    "def get_value_name(all_cells_demand, index):\n",
    "    station_value = all_cells_demand[['month', 'day', 'hour', all_cells_demand.columns[index]]]\n",
    "    station_name = all_cells_demand.columns[index]\n",
    "    return station_value, station_name"
   ],
   "outputs": [],
   "execution_count": null
  },
  {
   "metadata": {
    "collapsed": false
   },
   "cell_type": "code",
   "source": [
    "def prepare_data_for_model(demand_at_cell):\n",
    "    x = demand_at_cell.iloc[:, 0:num_input_features].values\n",
    "    y = demand_at_cell.iloc[:, num_input_features:].values\n",
    "\n",
    "    return x.reshape((x.shape[0], 1, x.shape[1])), y"
   ],
   "outputs": [],
   "execution_count": null
  },
  {
   "cell_type": "code",
   "metadata": {
    "id": "DG0xNr8L-TbU",
    "executionInfo": {
     "status": "ok",
     "timestamp": 1662333996904,
     "user_tz": -120,
     "elapsed": 14,
     "user": {
      "displayName": "Tri Dung Huynh",
      "userId": "00185777558728664115"
     }
    }
   },
   "source": [
    "def lstm_model(name, units, training_x, validation_x, training_y, validation_y):\n",
    "    model = tf.keras.models.Sequential(name=name)\n",
    "\n",
    "    model.add(tf.keras.layers.Input(shape=(1, num_input_features)))\n",
    "\n",
    "    model.add(tf.keras.layers.LSTM(units, return_sequences=True))\n",
    "    model.add(tf.keras.layers.Dropout(dropout, seed=seed))\n",
    "\n",
    "    model.add(tf.keras.layers.LSTM(units, return_sequences=True))\n",
    "    model.add(tf.keras.layers.Dropout(dropout, seed=seed))\n",
    "\n",
    "    model.add(tf.keras.layers.LSTM(units, return_sequences=True))\n",
    "    model.add(tf.keras.layers.Dropout(dropout, seed=seed))\n",
    "\n",
    "    model.add(tf.keras.layers.LSTM(units, return_sequences=True))\n",
    "    model.add(tf.keras.layers.Dropout(dropout, seed=seed))\n",
    "\n",
    "    model.add(tf.keras.layers.LSTM(units, return_sequences=False))\n",
    "    model.add(tf.keras.layers.Dropout(dropout, seed=seed))\n",
    "\n",
    "    model.add(tf.keras.layers.Dense(1))\n",
    "    model.compile(optimizer=tf.keras.optimizers.Adam(learning_rate=learning_rate), loss=loss_function)\n",
    "\n",
    "    model.fit(training_x, training_y, batch_size=batch_size, epochs=epochs, validation_data=(validation_x, validation_y), verbose=0)\n",
    "    return model"
   ],
   "outputs": [],
   "execution_count": null
  },
  {
   "metadata": {},
   "cell_type": "code",
   "source": [
    "# Input data\n",
    "all_grid_cells_temp = full_demand\n",
    "val_grid_cells_temp = validation_data.copy()\n",
    "\n",
    "# run the model\n",
    "grid_cells = list()\n",
    "models = list()\n",
    "\n",
    "# loop through all the grid cells\n",
    "for i in range(len(all_grid_cells_temp.columns) - num_input_features):\n",
    "    # preprocessing\n",
    "    grid_values, grid_name = get_value_name(all_grid_cells_temp, i + num_input_features)\n",
    "    val_grid_values, val_grid_name = get_value_name(val_grid_cells_temp, i + num_input_features)\n",
    "\n",
    "    train_x, train_y = prepare_data_for_model(grid_values)\n",
    "    val_x, val_y = prepare_data_for_model(val_grid_values)\n",
    "    \n",
    "    model_name = 'LSTM_GridCell_' + str(grid_name)\n",
    "    print('Training model ' + model_name)\n",
    "    \n",
    "    # LSTM modelling & forecast\n",
    "    current_model = lstm_model(model_name, num_units, train_x, val_x, train_y, val_y)\n",
    "\n",
    "    #Save result\n",
    "    grid_cells.append(grid_name)\n",
    "    models.append(current_model)\n",
    "\n",
    "    #current_model.summary()\n",
    "\n",
    "\n",
    "results = pd.DataFrame({'grid_cell': grid_cells, 'model': models}, columns=['grid_cell', 'model'])\n",
    "\n",
    "results.head()"
   ],
   "outputs": [],
   "execution_count": null
  },
  {
   "metadata": {},
   "cell_type": "code",
   "source": [
    "# save results\n",
    "results.to_pickle(results_filepath)"
   ],
   "outputs": [],
   "execution_count": null
  }
 ],
 "metadata": {
  "colab": {
   "collapsed_sections": [],
   "machine_shape": "hm",
   "provenance": [],
   "background_execution": "on"
  },
  "gpuClass": "standard",
  "kernelspec": {
   "display_name": "Python 3.10.0 64-bit",
   "language": "python",
   "name": "python3"
  },
  "language_info": {
   "codemirror_mode": {
    "name": "ipython",
    "version": 3
   },
   "file_extension": ".py",
   "mimetype": "text/x-python",
   "name": "python",
   "nbconvert_exporter": "python",
   "pygments_lexer": "ipython3",
   "version": "3.10.0"
  },
  "vscode": {
   "interpreter": {
    "hash": "aee8b7b246df8f9039afb4144a1f6fd8d2ca17a180786b69acc140d282b71a49"
   }
  }
 },
 "nbformat": 4,
 "nbformat_minor": 0
}
